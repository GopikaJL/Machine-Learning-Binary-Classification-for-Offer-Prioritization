{
 "cells": [
  {
   "cell_type": "code",
   "execution_count": 23,
   "metadata": {},
   "outputs": [],
   "source": [
    "#Imports\n",
    "import pandas as pd\n",
    "import numpy as np\n",
    "import matplotlib.pyplot as plt\n",
    "import seaborn as sns\n",
    "from sklearn.preprocessing import MinMaxScaler"
   ]
  },
  {
   "cell_type": "markdown",
   "metadata": {},
   "source": [
    "# I. Read dataset"
   ]
  },
  {
   "cell_type": "code",
   "execution_count": 24,
   "metadata": {},
   "outputs": [
    {
     "name": "stdout",
     "output_type": "stream",
     "text": [
      "<class 'pandas.core.frame.DataFrame'>\n",
      "RangeIndex: 21471 entries, 0 to 21470\n",
      "Data columns (total 18 columns):\n",
      " #   Column             Non-Null Count  Dtype  \n",
      "---  ------             --------------  -----  \n",
      " 0   Result_offer       21471 non-null  object \n",
      " 1   Amount_DE          21471 non-null  float64\n",
      " 2   Amount_HD          21471 non-null  float64\n",
      " 3   Amount_ID          21471 non-null  float64\n",
      " 4   Amount_OTHER       21471 non-null  float64\n",
      " 5   Amount_PP          21471 non-null  float64\n",
      " 6   Amount_PS          21471 non-null  float64\n",
      " 7   Amount_SP          21471 non-null  float64\n",
      " 8   Total_Amount       21471 non-null  float64\n",
      " 9   SR_codigo          21471 non-null  object \n",
      " 10  Bid_Notbid         21471 non-null  object \n",
      " 11  Resolution_time    21471 non-null  float64\n",
      " 12  Client_type        21471 non-null  object \n",
      " 13  Market_segment     21471 non-null  object \n",
      " 14  Client_BU          21471 non-null  object \n",
      " 15  Country            21471 non-null  object \n",
      " 16  Client_importance  21471 non-null  object \n",
      " 17  Coverage_model     21471 non-null  object \n",
      "dtypes: float64(9), object(9)\n",
      "memory usage: 2.9+ MB\n"
     ]
    }
   ],
   "source": [
    "df_cleaned=pd.read_csv('01_df_cleaned.csv', delimiter=',')\n",
    "df_cleaned.head()\n",
    "df_cleaned.info()"
   ]
  },
  {
   "cell_type": "markdown",
   "metadata": {},
   "source": [
    "# II. Normalization for ML"
   ]
  },
  {
   "cell_type": "code",
   "execution_count": 25,
   "metadata": {},
   "outputs": [
    {
     "data": {
      "text/html": [
       "<div>\n",
       "<style scoped>\n",
       "    .dataframe tbody tr th:only-of-type {\n",
       "        vertical-align: middle;\n",
       "    }\n",
       "\n",
       "    .dataframe tbody tr th {\n",
       "        vertical-align: top;\n",
       "    }\n",
       "\n",
       "    .dataframe thead th {\n",
       "        text-align: right;\n",
       "    }\n",
       "</style>\n",
       "<table border=\"1\" class=\"dataframe\">\n",
       "  <thead>\n",
       "    <tr style=\"text-align: right;\">\n",
       "      <th></th>\n",
       "      <th>Result_offer</th>\n",
       "      <th>Amount_DE</th>\n",
       "      <th>Amount_HD</th>\n",
       "      <th>Amount_ID</th>\n",
       "      <th>Amount_OTHER</th>\n",
       "      <th>Amount_PP</th>\n",
       "      <th>Amount_PS</th>\n",
       "      <th>Amount_SP</th>\n",
       "      <th>Total_Amount</th>\n",
       "      <th>SR_codigo</th>\n",
       "      <th>Bid_Notbid</th>\n",
       "      <th>Resolution_time</th>\n",
       "      <th>Client_type</th>\n",
       "      <th>Market_segment</th>\n",
       "      <th>Client_BU</th>\n",
       "      <th>Country</th>\n",
       "      <th>Client_importance</th>\n",
       "      <th>Coverage_model</th>\n",
       "    </tr>\n",
       "  </thead>\n",
       "  <tbody>\n",
       "    <tr>\n",
       "      <th>0</th>\n",
       "      <td>Lost</td>\n",
       "      <td>0.001945</td>\n",
       "      <td>0.0</td>\n",
       "      <td>0.0</td>\n",
       "      <td>0.0</td>\n",
       "      <td>0.00000</td>\n",
       "      <td>0.000000</td>\n",
       "      <td>0.0</td>\n",
       "      <td>0.000718</td>\n",
       "      <td>SR-2468496</td>\n",
       "      <td>Bid</td>\n",
       "      <td>0.078611</td>\n",
       "      <td>Contractor</td>\n",
       "      <td>BDZ</td>\n",
       "      <td>Power Products</td>\n",
       "      <td>ES</td>\n",
       "      <td>MA3</td>\n",
       "      <td>Sales Rep</td>\n",
       "    </tr>\n",
       "    <tr>\n",
       "      <th>1</th>\n",
       "      <td>Won</td>\n",
       "      <td>0.002045</td>\n",
       "      <td>0.0</td>\n",
       "      <td>0.1</td>\n",
       "      <td>0.0</td>\n",
       "      <td>0.02803</td>\n",
       "      <td>0.020478</td>\n",
       "      <td>0.0</td>\n",
       "      <td>0.021526</td>\n",
       "      <td>SR-2468507</td>\n",
       "      <td>Bid</td>\n",
       "      <td>0.235466</td>\n",
       "      <td>Contractor</td>\n",
       "      <td>E34</td>\n",
       "      <td>INDUSTRIAL AUTOMATION</td>\n",
       "      <td>ES</td>\n",
       "      <td>MS3</td>\n",
       "      <td>Sales Rep</td>\n",
       "    </tr>\n",
       "    <tr>\n",
       "      <th>2</th>\n",
       "      <td>Lost</td>\n",
       "      <td>0.003382</td>\n",
       "      <td>0.0</td>\n",
       "      <td>0.0</td>\n",
       "      <td>0.0</td>\n",
       "      <td>0.00000</td>\n",
       "      <td>0.000005</td>\n",
       "      <td>0.0</td>\n",
       "      <td>0.001252</td>\n",
       "      <td>SR-2468656</td>\n",
       "      <td>Bid</td>\n",
       "      <td>0.032176</td>\n",
       "      <td>Contractor</td>\n",
       "      <td>I9Z</td>\n",
       "      <td>Power Products</td>\n",
       "      <td>ES</td>\n",
       "      <td>MS3</td>\n",
       "      <td>Sales Rep</td>\n",
       "    </tr>\n",
       "    <tr>\n",
       "      <th>3</th>\n",
       "      <td>Lost</td>\n",
       "      <td>0.003382</td>\n",
       "      <td>0.0</td>\n",
       "      <td>0.0</td>\n",
       "      <td>0.0</td>\n",
       "      <td>0.00000</td>\n",
       "      <td>0.000005</td>\n",
       "      <td>0.0</td>\n",
       "      <td>0.001252</td>\n",
       "      <td>SR-2468663</td>\n",
       "      <td>Bid</td>\n",
       "      <td>0.025229</td>\n",
       "      <td>Contractor</td>\n",
       "      <td>I9Z</td>\n",
       "      <td>Power Products</td>\n",
       "      <td>ES</td>\n",
       "      <td>MS3</td>\n",
       "      <td>Sales Rep</td>\n",
       "    </tr>\n",
       "    <tr>\n",
       "      <th>4</th>\n",
       "      <td>Lost</td>\n",
       "      <td>0.003382</td>\n",
       "      <td>0.0</td>\n",
       "      <td>0.0</td>\n",
       "      <td>0.0</td>\n",
       "      <td>0.00000</td>\n",
       "      <td>0.000005</td>\n",
       "      <td>0.0</td>\n",
       "      <td>0.001252</td>\n",
       "      <td>SR-2468668</td>\n",
       "      <td>Bid</td>\n",
       "      <td>0.025229</td>\n",
       "      <td>Contractor</td>\n",
       "      <td>I9Z</td>\n",
       "      <td>Power Products</td>\n",
       "      <td>ES</td>\n",
       "      <td>MS3</td>\n",
       "      <td>Sales Rep</td>\n",
       "    </tr>\n",
       "  </tbody>\n",
       "</table>\n",
       "</div>"
      ],
      "text/plain": [
       "  Result_offer  Amount_DE  Amount_HD  Amount_ID  Amount_OTHER  Amount_PP  \\\n",
       "0         Lost   0.001945        0.0        0.0           0.0    0.00000   \n",
       "1          Won   0.002045        0.0        0.1           0.0    0.02803   \n",
       "2         Lost   0.003382        0.0        0.0           0.0    0.00000   \n",
       "3         Lost   0.003382        0.0        0.0           0.0    0.00000   \n",
       "4         Lost   0.003382        0.0        0.0           0.0    0.00000   \n",
       "\n",
       "   Amount_PS  Amount_SP  Total_Amount   SR_codigo Bid_Notbid  Resolution_time  \\\n",
       "0   0.000000        0.0      0.000718  SR-2468496        Bid         0.078611   \n",
       "1   0.020478        0.0      0.021526  SR-2468507        Bid         0.235466   \n",
       "2   0.000005        0.0      0.001252  SR-2468656        Bid         0.032176   \n",
       "3   0.000005        0.0      0.001252  SR-2468663        Bid         0.025229   \n",
       "4   0.000005        0.0      0.001252  SR-2468668        Bid         0.025229   \n",
       "\n",
       "  Client_type Market_segment              Client_BU Country Client_importance  \\\n",
       "0  Contractor            BDZ         Power Products      ES               MA3   \n",
       "1  Contractor            E34  INDUSTRIAL AUTOMATION      ES               MS3   \n",
       "2  Contractor            I9Z         Power Products      ES               MS3   \n",
       "3  Contractor            I9Z         Power Products      ES               MS3   \n",
       "4  Contractor            I9Z         Power Products      ES               MS3   \n",
       "\n",
       "  Coverage_model  \n",
       "0      Sales Rep  \n",
       "1      Sales Rep  \n",
       "2      Sales Rep  \n",
       "3      Sales Rep  \n",
       "4      Sales Rep  "
      ]
     },
     "execution_count": 25,
     "metadata": {},
     "output_type": "execute_result"
    }
   ],
   "source": [
    "# Columns to normalize\n",
    "df_normalized = df_cleaned.copy()\n",
    "\n",
    "columns_to_normalize = ['Amount_DE', 'Amount_HD', 'Amount_ID',\n",
    "                        'Amount_OTHER', 'Amount_PP', 'Amount_PS', 'Amount_SP',\n",
    "                        'Total_Amount', 'Resolution_time']\n",
    "scaler = MinMaxScaler()\n",
    "\n",
    "df_normalized[columns_to_normalize] = scaler.fit_transform(df_normalized[columns_to_normalize])\n",
    "\n",
    "df_normalized.head()"
   ]
  },
  {
   "cell_type": "markdown",
   "metadata": {},
   "source": [
    "# III. Target variables"
   ]
  },
  {
   "cell_type": "markdown",
   "metadata": {},
   "source": [
    "## Bid-Notbid"
   ]
  },
  {
   "cell_type": "code",
   "execution_count": 26,
   "metadata": {},
   "outputs": [],
   "source": [
    "# Filter the DataFrame where Bid_Notbid is 'Bid' or 'Not_bid'\n",
    "df_normalized_bidnotbid = df_normalized[df_normalized['Bid_Notbid'].isin(['Bid', 'Not_bid'])]"
   ]
  },
  {
   "cell_type": "code",
   "execution_count": 27,
   "metadata": {},
   "outputs": [
    {
     "name": "stdout",
     "output_type": "stream",
     "text": [
      "Bid_Notbid_binary\n",
      "1    19746\n",
      "0     1504\n",
      "Name: count, dtype: int64\n"
     ]
    }
   ],
   "source": [
    "# Ensure df_normalized_bidnotbid is a copy of the original DataFrame\n",
    "df_normalized_bidnotbid = df_normalized_bidnotbid.copy()\n",
    "\n",
    "# Create a binary target variable for bid/not bid\n",
    "df_normalized_bidnotbid['Bid_Notbid_binary'] = df_normalized_bidnotbid['Bid_Notbid'].apply(lambda x: 1 if x == 'Bid' else 0)\n",
    "\n",
    "# Verify the transformation\n",
    "print(df_normalized_bidnotbid['Bid_Notbid_binary'].value_counts())\n"
   ]
  },
  {
   "cell_type": "markdown",
   "metadata": {},
   "source": [
    "## Won-Lost"
   ]
  },
  {
   "cell_type": "code",
   "execution_count": 28,
   "metadata": {},
   "outputs": [],
   "source": [
    "# Filter the DataFrame where Result_offer = 'Won' or 'Lost' and Bid_Notbid = 'Bid'\n",
    "df_normalized_wonlost = df_normalized[\n",
    "    (df_normalized['Result_offer'].isin(['Won', 'Lost'])) & \n",
    "    (df_normalized['Bid_Notbid'].isin(['Bid']))\n",
    "]"
   ]
  },
  {
   "cell_type": "code",
   "execution_count": 29,
   "metadata": {},
   "outputs": [
    {
     "name": "stdout",
     "output_type": "stream",
     "text": [
      "Result_offer_binary\n",
      "1    7853\n",
      "0    5414\n",
      "Name: count, dtype: int64\n"
     ]
    }
   ],
   "source": [
    "# Ensure df_normalized_wonlost is a copy of the original DataFrame\n",
    "df_normalized_wonlost = df_normalized_wonlost.copy()\n",
    "\n",
    "# Create a binary target variable\n",
    "df_normalized_wonlost['Result_offer_binary'] = df_normalized_wonlost['Result_offer'].apply(lambda x: 1 if x == 'Won' else 0)\n",
    "\n",
    "# Verify the transformation\n",
    "print(df_normalized_wonlost['Result_offer_binary'].value_counts())"
   ]
  },
  {
   "cell_type": "code",
   "execution_count": 30,
   "metadata": {},
   "outputs": [
    {
     "name": "stdout",
     "output_type": "stream",
     "text": [
      "Class distribution (%):\n",
      "Result_offer_binary\n",
      "1    59.19198\n",
      "0    40.80802\n",
      "Name: proportion, dtype: float64\n"
     ]
    }
   ],
   "source": [
    "# Check class distribution (to check the balance between the Won (1) and Not Won (0) classes)\n",
    "class_counts = df_normalized_wonlost['Result_offer_binary'].value_counts(normalize=True) * 100\n",
    "print(\"Class distribution (%):\")\n",
    "print(class_counts)\n"
   ]
  },
  {
   "cell_type": "markdown",
   "metadata": {},
   "source": [
    "# IV. For predictions"
   ]
  },
  {
   "cell_type": "code",
   "execution_count": 31,
   "metadata": {},
   "outputs": [],
   "source": [
    "# Filter the DataFrame where Bid_Notbid is 'Not_decided_yet'\n",
    "df_normalized_notdecided = df_normalized[df_normalized['Bid_Notbid'].isin(['Not_decided_yet'])]"
   ]
  },
  {
   "cell_type": "code",
   "execution_count": 32,
   "metadata": {},
   "outputs": [],
   "source": [
    "# Filter the DataFrame where Result_offer = 'Pipeline' and Bid_Notbid = 'Bid'\n",
    "df_normalized_pipeline = df_normalized[\n",
    "    (df_normalized['Result_offer'].isin(['Pipeline'])) &\n",
    "    (df_normalized['Bid_Notbid'].isin(['Bid']))\n",
    "]"
   ]
  },
  {
   "cell_type": "markdown",
   "metadata": {},
   "source": [
    "# IV. Exporting to CSV\n",
    "\n",
    "Final dataset for ML training Bid/Notbid (ML):\n",
    "- target variable bid/notbid\n",
    "- excluding not_decided_yet\n",
    "Final dataset for ML training Won/Lost (ML): \n",
    " - target variable won/lost\n",
    " - filtered to where result_offer is 'Won' or 'Lost' only --> For training the machine\n",
    " - filter to bid only\n",
    "\n",
    "\n",
    "Final datasets for prediction with ML:\n",
    "- Not decided yet: where Bid_Notbid is 'Not_decided_yet'\n",
    "- Pipeline: where Bid_Notbid is 'Bid' and Result_offer is 'Pipeline'"
   ]
  },
  {
   "cell_type": "code",
   "execution_count": 35,
   "metadata": {},
   "outputs": [],
   "source": [
    "#Export to CSV\n",
    "\n",
    "#For ML training\n",
    "df_normalized_bidnotbid.to_csv('03_df_normalized_bidnotbid.csv', index=False)\n",
    "df_normalized_wonlost.to_csv('03_df_normalized_wonlost.csv', index=False)\n",
    "\n",
    "#For ML predictions\n",
    "df_normalized_notdecided.to_csv('03_df_normalized_PRED_notdecided.csv', index=False)\n",
    "df_normalized_pipeline.to_csv('03_df_normalized_PRED_pipeline.csv', index=False)\n"
   ]
  }
 ],
 "metadata": {
  "kernelspec": {
   "display_name": "base",
   "language": "python",
   "name": "python3"
  },
  "language_info": {
   "codemirror_mode": {
    "name": "ipython",
    "version": 3
   },
   "file_extension": ".py",
   "mimetype": "text/x-python",
   "name": "python",
   "nbconvert_exporter": "python",
   "pygments_lexer": "ipython3",
   "version": "3.12.4"
  }
 },
 "nbformat": 4,
 "nbformat_minor": 2
}
